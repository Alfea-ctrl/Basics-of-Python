{
  "nbformat": 4,
  "nbformat_minor": 0,
  "metadata": {
    "colab": {
      "provenance": []
    },
    "kernelspec": {
      "name": "python3",
      "display_name": "Python 3"
    },
    "language_info": {
      "name": "python"
    }
  },
  "cells": [
    {
      "cell_type": "markdown",
      "source": [
        "# Functions"
      ],
      "metadata": {
        "id": "ybb-x_8KlzZH"
      }
    },
    {
      "cell_type": "markdown",
      "source": [
        "1 - What is Python, and why is it popular ?\n",
        "  - Python is a Programming language ( set of rules which we  use to give instructions to a computer .\n",
        "  - It is popular because of following reasons -\n",
        "     - Easy to learn\n",
        "     - Vast libraries , and\n",
        "     - community support\n",
        "\n",
        "\n",
        "2 -   What is an interpreter in Python ?\n",
        "  -  An Interpretor executes Python code line by line , converting it into machine code during runtime .\n",
        "\n",
        "3 -  What are pre-defined keywords in Python ?\n",
        "  - Pre-defined keywords Reserved words that like if, while etc that have special meanings in PYTHON.\n",
        "\n",
        "4-  Can keywords be used as variable names ?\n",
        "   - No , because they are reserved for some specific purposes\n",
        "\n",
        "5- What is mutability in Python ?\n",
        "  - Mutability refers to whether an object's value can be changed after creation\n",
        "  - e.g. lists are mutable while tupples are not\n",
        "\n",
        "6 -  Why are lists mutable, but tuples are immutable ?\n",
        "  - Lists are mutable or changeable because they are created for dynamic data i.e we change them often ,e.g appending scores , names .\n",
        "  - Tupples are immutable or not  changeable because they are created for Static data loke lattitudes , longitides etc.\n",
        "\n",
        "7- What is the difference between “==” and “is” operators in Python ?\n",
        "  - '==' checks value equality,\n",
        "  - 'is' checks identity (whether two objects point to the same memory location).\n",
        "\n",
        "8 - What are logical operators in Python ?\n",
        "  - Logical operators like \" and\" , \"not\" ,\" or\"  are used to combine boolean expressions .\n",
        "  \n",
        "9 - What is type casting in Python ?\n",
        "  - type casting refer to changing one data type to other\n",
        "  - e.g. int('5') converts string to integer.\n",
        "\n",
        "10 - What is the difference between implicit and explicit type casting\n",
        "   - Implicit: python converts types automatically\n",
        "   - Explicit: We use functions like int(), float() manually\n",
        "\n",
        "11 - What is the purpose of conditional statements in Python ?\n",
        "   - To make decisions in code using if, elif, and else.\n",
        "\n",
        "12 -  How does the elif statement work ?\n",
        "   - It checks multiple statements , If the first if fails , elif runs.\n",
        "   - only the 1st true condition is exeecuted .\n",
        "\n",
        "13 - What is the difference between for and while loops ?\n",
        "   - for loop is used when no. of iterations are known\n",
        "   - while loop is used when the condition controls the loop\n",
        "\n",
        "\n",
        "14 -  Describe a scenario where a while loop is more suitable than a for loop ?\n",
        "   - A while loop is more suitable in open ended or condition contolled situations,\n",
        "     - where we do not know how many times the loop will run in advance .\n",
        "     - The loop depends on a user's input, a sensor value, or some changing condition."
      ],
      "metadata": {
        "id": "3JLZC6NKmH_F"
      }
    },
    {
      "cell_type": "code",
      "source": [
        "#1 - Write a Python program to print \"Hello, World!\n",
        "print('Hello World!')"
      ],
      "metadata": {
        "colab": {
          "base_uri": "https://localhost:8080/"
        },
        "id": "eEnWF-l40TD8",
        "outputId": "982115af-5156-4789-fff6-7f88411ea546"
      },
      "execution_count": 1,
      "outputs": [
        {
          "output_type": "stream",
          "name": "stdout",
          "text": [
            "Hello World!\n"
          ]
        }
      ]
    },
    {
      "cell_type": "code",
      "source": [
        "#2 - Write a Python program that displays your name and age\n",
        "name = \"Alfiya\"\n",
        "age = 19\n",
        "print(\"Name:\", name)\n",
        "print(\"Age:\", age)\n"
      ],
      "metadata": {
        "colab": {
          "base_uri": "https://localhost:8080/"
        },
        "id": "wWBdciln0jnP",
        "outputId": "ed769c2c-aa2e-416a-e138-54f97b4fafa5"
      },
      "execution_count": 7,
      "outputs": [
        {
          "output_type": "stream",
          "name": "stdout",
          "text": [
            "Name: Alfiya\n",
            "Age: 19\n"
          ]
        }
      ]
    },
    {
      "cell_type": "code",
      "source": [
        "#3 - Write code to print all the pre-defined keywords in Python using the keyword library\n",
        "import keyword\n",
        "print(keyword.kwlist)"
      ],
      "metadata": {
        "colab": {
          "base_uri": "https://localhost:8080/"
        },
        "id": "2DA7CZF61NBg",
        "outputId": "a135be66-c5f6-4a7a-b77f-89d0f5d5f0a4"
      },
      "execution_count": 8,
      "outputs": [
        {
          "output_type": "stream",
          "name": "stdout",
          "text": [
            "['False', 'None', 'True', 'and', 'as', 'assert', 'async', 'await', 'break', 'class', 'continue', 'def', 'del', 'elif', 'else', 'except', 'finally', 'for', 'from', 'global', 'if', 'import', 'in', 'is', 'lambda', 'nonlocal', 'not', 'or', 'pass', 'raise', 'return', 'try', 'while', 'with', 'yield']\n"
          ]
        }
      ]
    },
    {
      "cell_type": "code",
      "source": [
        "#4 -  Write a program that checks if a given word is a Python keyword\n",
        "import keyword\n",
        "word = \"for\"\n",
        "print(keyword.iskeyword(word))"
      ],
      "metadata": {
        "colab": {
          "base_uri": "https://localhost:8080/"
        },
        "id": "5OJL0gy1DeUY",
        "outputId": "adc88218-5d33-4978-fe29-0a04bd4aed87"
      },
      "execution_count": 9,
      "outputs": [
        {
          "output_type": "stream",
          "name": "stdout",
          "text": [
            "True\n"
          ]
        }
      ]
    },
    {
      "cell_type": "code",
      "source": [
        "'''\n",
        " 5- Create a list and tuple in Python, and demonstrate how attempting to change an element works differently\n",
        "for each.\n",
        "'''\n",
        "\n",
        "# Creating a list\n",
        "my_list = [1, 2, 3]\n",
        "print(\"Original list:\", my_list)\n",
        "\n"
      ],
      "metadata": {
        "colab": {
          "base_uri": "https://localhost:8080/"
        },
        "id": "uwMf0YnrDzA-",
        "outputId": "4b8a69f5-042e-418e-b29e-18e341a67cc6"
      },
      "execution_count": 26,
      "outputs": [
        {
          "output_type": "stream",
          "name": "stdout",
          "text": [
            "Original list: [1, 2, 3]\n"
          ]
        }
      ]
    },
    {
      "cell_type": "code",
      "source": [
        "my_list[0]= \"Assignment\""
      ],
      "metadata": {
        "id": "hWoHTvZ8E4Iy"
      },
      "execution_count": 27,
      "outputs": []
    },
    {
      "cell_type": "code",
      "source": [
        "print(\"Modified list:\", my_list)"
      ],
      "metadata": {
        "colab": {
          "base_uri": "https://localhost:8080/"
        },
        "id": "yxQZezUEIzm8",
        "outputId": "320c1900-4a9a-4ea1-a841-458de67fcf86"
      },
      "execution_count": 30,
      "outputs": [
        {
          "output_type": "stream",
          "name": "stdout",
          "text": [
            "Modified list: ['Assignment', 2, 3]\n"
          ]
        }
      ]
    },
    {
      "cell_type": "code",
      "source": [
        "'''\n",
        "my_tuple = (1, 2, 3)         #  Creating a tuple\n",
        "print(\"Original tuple:\", my_tuple)\n",
        "'''"
      ],
      "metadata": {
        "colab": {
          "base_uri": "https://localhost:8080/",
          "height": 36
        },
        "id": "wAlxws4BJAXg",
        "outputId": "36557415-1b8f-4f79-a43c-2cc7a6822da4"
      },
      "execution_count": 33,
      "outputs": [
        {
          "output_type": "execute_result",
          "data": {
            "text/plain": [
              "'\\nmy_tuple = (1, 2, 3)         #  Creating a tuple\\nprint(\"Original tuple:\", my_tuple)\\n'"
            ],
            "application/vnd.google.colaboratory.intrinsic+json": {
              "type": "string"
            }
          },
          "metadata": {},
          "execution_count": 33
        }
      ]
    },
    {
      "cell_type": "code",
      "source": [
        " my_tuple[0] = 'Assignment'"
      ],
      "metadata": {
        "colab": {
          "base_uri": "https://localhost:8080/",
          "height": 146
        },
        "id": "mWk0KCvTJLRV",
        "outputId": "273d4216-cb9f-4a48-ac65-c14b1222934b"
      },
      "execution_count": 34,
      "outputs": [
        {
          "output_type": "error",
          "ename": "TypeError",
          "evalue": "'tuple' object does not support item assignment",
          "traceback": [
            "\u001b[0;31m---------------------------------------------------------------------------\u001b[0m",
            "\u001b[0;31mTypeError\u001b[0m                                 Traceback (most recent call last)",
            "\u001b[0;32m<ipython-input-34-1960302171>\u001b[0m in \u001b[0;36m<cell line: 0>\u001b[0;34m()\u001b[0m\n\u001b[0;32m----> 1\u001b[0;31m \u001b[0mmy_tuple\u001b[0m\u001b[0;34m[\u001b[0m\u001b[0;36m0\u001b[0m\u001b[0;34m]\u001b[0m \u001b[0;34m=\u001b[0m \u001b[0;34m'Assignment'\u001b[0m\u001b[0;34m\u001b[0m\u001b[0;34m\u001b[0m\u001b[0m\n\u001b[0m",
            "\u001b[0;31mTypeError\u001b[0m: 'tuple' object does not support item assignment"
          ]
        }
      ]
    },
    {
      "cell_type": "code",
      "source": [
        "\n",
        "# 6. Write a function to demonstrate the behavior of mutable and immutable arguments\n",
        "def modify_list(x):\n",
        "    x[0] = 999\n",
        "\n",
        "my_list = [1, 2, 3]\n",
        "modify_list(my_list)\n",
        "print(\"After modifying list:\", my_list)"
      ],
      "metadata": {
        "colab": {
          "base_uri": "https://localhost:8080/"
        },
        "id": "zY9CUXjbJW4r",
        "outputId": "91cfddeb-86cc-4e3c-d9d7-f5a9480f8541"
      },
      "execution_count": 35,
      "outputs": [
        {
          "output_type": "stream",
          "name": "stdout",
          "text": [
            "After modifying list: [999, 2, 3]\n"
          ]
        }
      ]
    },
    {
      "cell_type": "code",
      "source": [
        "def modify_integer(x):\n",
        "    x = 999\n",
        "\n",
        "num = 5\n",
        "modify_integer(num)\n",
        "print(\"After modifying integer:\", num)"
      ],
      "metadata": {
        "colab": {
          "base_uri": "https://localhost:8080/"
        },
        "id": "ZnF9_4HpJ0OO",
        "outputId": "dec88941-0110-4bf6-e3f8-4547efc0781b"
      },
      "execution_count": 36,
      "outputs": [
        {
          "output_type": "stream",
          "name": "stdout",
          "text": [
            "After modifying integer: 5\n"
          ]
        }
      ]
    },
    {
      "cell_type": "code",
      "source": [
        "#7- Write a program that performs basic arithmetic operations on two user-input numbers.\n",
        "\n",
        "a = int(input(\"Enter the first number: \"))\n",
        "b = int(input(\"Enter the second number: \"))\n",
        "\n",
        "\n",
        "\n"
      ],
      "metadata": {
        "colab": {
          "base_uri": "https://localhost:8080/"
        },
        "id": "fV2ntuSuJ93Q",
        "outputId": "65f7ad71-a9a0-4dc9-ca45-521409c695d3"
      },
      "execution_count": 41,
      "outputs": [
        {
          "name": "stdout",
          "output_type": "stream",
          "text": [
            "Enter the first number: 7\n",
            "Enter the second number: 66\n"
          ]
        }
      ]
    },
    {
      "cell_type": "code",
      "source": [
        "# Step 2: Perform operations\n",
        "print(\"Addition:\", a + b)\n",
        "print(\"Subtraction:\", a - b)\n",
        "print(\"Multiplication:\", a * b)\n"
      ],
      "metadata": {
        "colab": {
          "base_uri": "https://localhost:8080/"
        },
        "id": "7HHnBh0-Kcqj",
        "outputId": "2537b1ac-886e-4015-dce8-3a15a9d8661f"
      },
      "execution_count": 42,
      "outputs": [
        {
          "output_type": "stream",
          "name": "stdout",
          "text": [
            "Addition: 73\n",
            "Subtraction: -59\n",
            "Multiplication: 462\n"
          ]
        }
      ]
    },
    {
      "cell_type": "code",
      "source": [
        "# Step 3: Check for division by zero\n",
        "if b != 0:\n",
        "    print(\"Division:\", a / b)\n",
        "else:\n",
        "    print(\"Cannot divide by zero \")"
      ],
      "metadata": {
        "colab": {
          "base_uri": "https://localhost:8080/"
        },
        "id": "qgnuaQLXLN7H",
        "outputId": "babc12b0-99ca-468a-8566-b845187c2492"
      },
      "execution_count": 43,
      "outputs": [
        {
          "output_type": "stream",
          "name": "stdout",
          "text": [
            "Division: 0.10606060606060606\n"
          ]
        }
      ]
    },
    {
      "cell_type": "code",
      "source": [
        "#8. Write a program to demonstrate the use of logical operators.\n",
        "# Step 1: Take user input\n",
        "age = int(input(\"Enter your age: \"))"
      ],
      "metadata": {
        "colab": {
          "base_uri": "https://localhost:8080/"
        },
        "id": "cP3S_LYDLTG3",
        "outputId": "17e7d51a-18a3-4a12-8e72-72e5d856cdc4"
      },
      "execution_count": 44,
      "outputs": [
        {
          "name": "stdout",
          "output_type": "stream",
          "text": [
            "Enter your age: 19\n"
          ]
        }
      ]
    },
    {
      "cell_type": "code",
      "source": [
        "#Step 2: Use logical operators\n",
        "print(\" Working age (18 to 60)?\", age >= 18 and age <= 60)\n",
        "print(\" Underage or Senior?\", age < 18 or age > 60)\n",
        "print(\"Not a child?\", not (age < 18))"
      ],
      "metadata": {
        "colab": {
          "base_uri": "https://localhost:8080/"
        },
        "id": "peSHG4wILjfT",
        "outputId": "20b62827-3c12-46bb-c9f4-60764f54c8ae"
      },
      "execution_count": 46,
      "outputs": [
        {
          "output_type": "stream",
          "name": "stdout",
          "text": [
            " Working age (18 to 60)? True\n",
            " Underage or Senior? False\n",
            "Not a child? True\n"
          ]
        }
      ]
    },
    {
      "cell_type": "code",
      "source": [
        "#9. Write a Python program to convert user input from string to integer, float, and boolean types# Step 1: Take input from user\n",
        "user_input = input(\"Enter something: \")\n"
      ],
      "metadata": {
        "colab": {
          "base_uri": "https://localhost:8080/"
        },
        "id": "D9HhwBewLr_E",
        "outputId": "a273c84d-c391-41a0-90a8-2d5e56e8c7f5"
      },
      "execution_count": 51,
      "outputs": [
        {
          "name": "stdout",
          "output_type": "stream",
          "text": [
            "Enter something: 10\n"
          ]
        }
      ]
    },
    {
      "cell_type": "code",
      "source": [
        "# Step 2: Convert and print\n",
        "print(\"As integer:\", int(float(user_input)))   # Handles integers and decimals\n",
        "print(\"As float:\", float(user_input))\n",
        "print(\"As boolean:\", bool(user_input))"
      ],
      "metadata": {
        "colab": {
          "base_uri": "https://localhost:8080/"
        },
        "id": "jL6M2hvHMmq_",
        "outputId": "489a0028-bd24-4d79-b281-e9af7737036e"
      },
      "execution_count": 52,
      "outputs": [
        {
          "output_type": "stream",
          "name": "stdout",
          "text": [
            "As integer: 10\n",
            "As float: 10.0\n",
            "As boolean: True\n"
          ]
        }
      ]
    },
    {
      "cell_type": "code",
      "source": [
        "#10. Write code to demonstrate type casting with list elements.\n",
        "# Step 1: Create a list with mixed values\n",
        "my_list = [\"1\", \"2.5\", \"3.9\"]"
      ],
      "metadata": {
        "id": "OfFwqb17Mrj3"
      },
      "execution_count": 53,
      "outputs": []
    },
    {
      "cell_type": "code",
      "source": [
        "# Step 2: Convert each item to integer using list comprehension\n",
        "converted_list = [int(float(item)) for item in my_list]"
      ],
      "metadata": {
        "id": "YGSqL2pgNJbw"
      },
      "execution_count": 54,
      "outputs": []
    },
    {
      "cell_type": "code",
      "source": [
        "\n",
        "# Step 3: Print the converted list\n",
        "print(\"Converted list:\", converted_list)"
      ],
      "metadata": {
        "colab": {
          "base_uri": "https://localhost:8080/"
        },
        "id": "u_Rp5b5WNMvK",
        "outputId": "94df19b5-b299-46b0-eca6-7522e8ae6c2f"
      },
      "execution_count": 55,
      "outputs": [
        {
          "output_type": "stream",
          "name": "stdout",
          "text": [
            "Converted list: [1, 2, 3]\n"
          ]
        }
      ]
    },
    {
      "cell_type": "code",
      "source": [
        "#11. Write a program that checks if a number is positive, negative, or zero.\n",
        "# Step 1: Take number from user\n",
        "num = float(input(\"Enter a number: \"))"
      ],
      "metadata": {
        "colab": {
          "base_uri": "https://localhost:8080/"
        },
        "id": "7dTbO761NRam",
        "outputId": "6440876e-04c8-4f92-f7bd-62f66e98b38a"
      },
      "execution_count": 58,
      "outputs": [
        {
          "name": "stdout",
          "output_type": "stream",
          "text": [
            "Enter a number: 5.8\n"
          ]
        }
      ]
    },
    {
      "cell_type": "code",
      "source": [
        " #Step 2: Use if-elif-else to classify\n",
        "if num > 0:\n",
        "    print(\" The number is Positive.\")\n",
        "elif num < 0:\n",
        "    print(\" The number is Negative.\")\n",
        "else:\n",
        "    print(\"0 The number is Zero.\")"
      ],
      "metadata": {
        "colab": {
          "base_uri": "https://localhost:8080/"
        },
        "id": "cOeLBROZObpj",
        "outputId": "17d7294e-0696-446d-cf17-e864f910f6cf"
      },
      "execution_count": 60,
      "outputs": [
        {
          "output_type": "stream",
          "name": "stdout",
          "text": [
            " The number is Positive.\n"
          ]
        }
      ]
    },
    {
      "cell_type": "code",
      "source": [
        " #12. Write a for loop to print numbers from 1 to 10.\n",
        " # Print numbers from 1 to 10 using for loop\n",
        "for i in range(1, 11):\n",
        "    print(i)"
      ],
      "metadata": {
        "colab": {
          "base_uri": "https://localhost:8080/"
        },
        "id": "80wLokb-OKIB",
        "outputId": "e73951ee-a873-4fbe-f944-c984014e900d"
      },
      "execution_count": 59,
      "outputs": [
        {
          "output_type": "stream",
          "name": "stdout",
          "text": [
            "1\n",
            "2\n",
            "3\n",
            "4\n",
            "5\n",
            "6\n",
            "7\n",
            "8\n",
            "9\n",
            "10\n"
          ]
        }
      ]
    },
    {
      "cell_type": "code",
      "source": [
        "# 13. Write a Python program to find the sum of all even numbers between 1 and 50\n",
        "\n",
        "# Initialize sum variable\n",
        "total = 0\n",
        "\n",
        "# Loop through numbers from 1 to 50\n",
        "for i in range(1, 51):\n",
        "    if i % 2 == 0:     # Check if even\n",
        "        total += i     # Add to total\n",
        "\n",
        "# Print the result\n",
        "print(\"Sum of even numbers from 1 to 50 is:\", total)\n"
      ],
      "metadata": {
        "colab": {
          "base_uri": "https://localhost:8080/"
        },
        "id": "u_ub6_nIPJlf",
        "outputId": "7cc37128-ef9c-4f40-8c50-bede576ca046"
      },
      "execution_count": 63,
      "outputs": [
        {
          "output_type": "stream",
          "name": "stdout",
          "text": [
            "Sum of even numbers from 1 to 50 is: 650\n"
          ]
        }
      ]
    },
    {
      "cell_type": "code",
      "source": [
        " #14. Write a program to reverse a string using a while loop.\n",
        " # Step 1: Take input from the user\n",
        "text = input(\"Enter a string: \")\n"
      ],
      "metadata": {
        "colab": {
          "base_uri": "https://localhost:8080/"
        },
        "id": "6RD-4l_fPccc",
        "outputId": "269ac0f4-a9a4-48a4-fabf-6c876e5b407f"
      },
      "execution_count": 67,
      "outputs": [
        {
          "name": "stdout",
          "output_type": "stream",
          "text": [
            "Enter a string: hello\n"
          ]
        }
      ]
    },
    {
      "cell_type": "code",
      "source": [
        "# Step 2: Initialize index and result\n",
        "i = len(text) - 1       # Start from the last index\n",
        "reversed_text = \"\"      # Empty string to store reversed result"
      ],
      "metadata": {
        "id": "l3lBntmrQMYe"
      },
      "execution_count": 68,
      "outputs": []
    },
    {
      "cell_type": "code",
      "source": [
        "# Step 3: Loop backward using while\n",
        "while i >= 0:\n",
        "    reversed_text += text[i]\n",
        "    i -= 1"
      ],
      "metadata": {
        "id": "fIlrto7GQRq-"
      },
      "execution_count": 69,
      "outputs": []
    },
    {
      "cell_type": "code",
      "source": [
        "# Step 4: Print result\n",
        "print(\"Reversed string:\", reversed_text)"
      ],
      "metadata": {
        "colab": {
          "base_uri": "https://localhost:8080/"
        },
        "id": "vS28IbhvQg1c",
        "outputId": "cc4f2d5a-1bfc-4615-efa3-c92f05220dba"
      },
      "execution_count": 70,
      "outputs": [
        {
          "output_type": "stream",
          "name": "stdout",
          "text": [
            "Reversed string: olleh\n"
          ]
        }
      ]
    },
    {
      "cell_type": "code",
      "source": [
        "#15. Write a Python program to calculate the factorial of a number provided by the user using a while loop\n",
        "num = int(input(\"Enter a number: \"))\n"
      ],
      "metadata": {
        "colab": {
          "base_uri": "https://localhost:8080/"
        },
        "id": "rNrPsxPIQkhs",
        "outputId": "c1274d7f-be03-4660-8d64-6865f3722eda"
      },
      "execution_count": 78,
      "outputs": [
        {
          "name": "stdout",
          "output_type": "stream",
          "text": [
            "Enter a number: 99\n"
          ]
        }
      ]
    },
    {
      "cell_type": "code",
      "source": [
        "# Step 2: Initialize variables\n",
        "factorial = 1\n",
        "i = 1"
      ],
      "metadata": {
        "id": "tD1_bNuMQ5kV"
      },
      "execution_count": 76,
      "outputs": []
    },
    {
      "cell_type": "code",
      "source": [
        "# Step 3: Calculate factorial using while loop\n",
        "while i <= num:\n",
        "    factorial *= i\n",
        "    i += 1"
      ],
      "metadata": {
        "id": "41rQN-LDRO1R"
      },
      "execution_count": 77,
      "outputs": []
    },
    {
      "cell_type": "code",
      "source": [
        "print(f\"The factorial of {num} is {factorial}\")"
      ],
      "metadata": {
        "colab": {
          "base_uri": "https://localhost:8080/"
        },
        "id": "RhAk7u5NRTAN",
        "outputId": "de8783a7-eea2-4c3e-b190-e68a33003cab"
      },
      "execution_count": 79,
      "outputs": [
        {
          "output_type": "stream",
          "name": "stdout",
          "text": [
            "The factorial of 99 is 120\n"
          ]
        }
      ]
    },
    {
      "cell_type": "code",
      "source": [],
      "metadata": {
        "id": "qJzEBRinSkD_"
      },
      "execution_count": null,
      "outputs": []
    }
  ]
}